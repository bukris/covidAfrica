{
 "cells": [
  {
   "cell_type": "markdown",
   "metadata": {},
   "source": [
    "# AFRICA COVID-19 TREND "
   ]
  },
  {
   "cell_type": "markdown",
   "metadata": {},
   "source": [
    "This notebook has been created by DataPivotAfrica to help visualise the COVID-19 pandemic in the continent"
   ]
  },
  {
   "cell_type": "code",
   "execution_count": 1,
   "metadata": {},
   "outputs": [],
   "source": [
    "import pandas as pd\n",
    "import numpy as np\n",
    "import matplotlib.pyplot as plt\n",
    "plt.rcParams.update({'font.size': 22})\n",
    "plt.style.use('ggplot')\n",
    "import os\n"
   ]
  },
  {
   "cell_type": "code",
   "execution_count": 2,
   "metadata": {},
   "outputs": [],
   "source": [
    "ROOT = \"../data/\"\n",
    "PATH = os.listdir(\"../data\")\n",
    "PATH = [p for p in PATH if p.endswith('.csv') and  pd.read_csv(ROOT+p,index_col=0).shape[0]>0]"
   ]
  },
  {
   "cell_type": "code",
   "execution_count": null,
   "metadata": {
    "scrolled": false
   },
   "outputs": [],
   "source": [
    "ncols = 2\n",
    "nrows = int(np.ceil(len(PATH) // ncols))\n",
    "fig, axes = plt.subplots(nrows=nrows, ncols=ncols, figsize=(18, nrows*3*2))\n",
    "fig.subplots_adjust(hspace=0.3)\n",
    "fig.subplots_adjust(top=0.7)\n",
    "for p,ax in zip(PATH, axes.flatten()):\n",
    "    data = pd.read_csv(ROOT+p, index_col = 0, names = ['confirmed','dead','recovered'],skiprows=1)\n",
    "    inx = np.array([ \"/\".join(i.split(\"-\")[:2]) for i in data.index])\n",
    "    data.set_index(inx,inplace=True)\n",
    "    data = data.iloc[::-1]\n",
    "    data.plot(ax = ax, title = p.split(\".\")[0].split(\"_\")[0], marker='.') \n",
    "fig.suptitle(\"COVID-19 Africa Trends: (Created By DataPivotAfrica)\", y = 1.01, size = 25)\n",
    "fig.tight_layout()\n",
    "plt.savefig('trend.png', quality = 95,orientation='landscape',dpi = 96)\n",
    "plt.show()"
   ]
  },
  {
   "cell_type": "code",
   "execution_count": null,
   "metadata": {},
   "outputs": [],
   "source": []
  }
 ],
 "metadata": {
  "kernelspec": {
   "display_name": "Python [conda env:ml]",
   "language": "python",
   "name": "conda-env-ml-py"
  },
  "language_info": {
   "codemirror_mode": {
    "name": "ipython",
    "version": 3
   },
   "file_extension": ".py",
   "mimetype": "text/x-python",
   "name": "python",
   "nbconvert_exporter": "python",
   "pygments_lexer": "ipython3",
   "version": "3.6.10"
  }
 },
 "nbformat": 4,
 "nbformat_minor": 4
}
