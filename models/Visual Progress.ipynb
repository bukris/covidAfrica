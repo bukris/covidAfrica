{
 "cells": [
  {
   "cell_type": "code",
   "execution_count": null,
   "metadata": {},
   "outputs": [],
   "source": [
    "import pandas as pd\n",
    "import numpy as np\n",
    "import matplotlib.pyplot as plt\n",
    "plt.rcParams[\"figure.figsize\"] = (100,100)\n",
    "plt.rcParams.update({'font.size': 16})\n",
    "plt.style.use('ggplot')\n",
    "import os"
   ]
  },
  {
   "cell_type": "code",
   "execution_count": null,
   "metadata": {},
   "outputs": [],
   "source": [
    "ROOT = \"../data/\"\n",
    "PATH = os.listdir(\"../data\")"
   ]
  },
  {
   "cell_type": "code",
   "execution_count": null,
   "metadata": {},
   "outputs": [],
   "source": [
    "PATH = [p for p in PATH if pd.read_csv(ROOT+p,index_col=0).shape[0]>0]"
   ]
  },
  {
   "cell_type": "code",
   "execution_count": null,
   "metadata": {},
   "outputs": [],
   "source": [
    "ncols = 3\n",
    "nrows = int(np.ceil(len(PATH) // ncols))\n",
    "fig, axes = plt.subplots(nrows=nrows, ncols=ncols, figsize=(15, nrows*3))\n",
    "fig.subplots_adjust(hspace=0.3)\n",
    "fig.subplots_adjust(top=0.7)\n",
    "for p,ax in zip(PATH, axes.flatten()):\n",
    "    data = pd.read_csv(ROOT+p, index_col = 0, names = ['confirmed','dead','recovered','active'],skiprows=1)\n",
    "    inx = np.array([ \"/\".join(i.split(\"-\")[:2]) for i in data.index])\n",
    "    data.set_index(inx,inplace=True)\n",
    "    data = data.iloc[::-1]\n",
    "    data.plot(ax = ax, title = p.split(\".\")[0].split(\"_\")[0]) \n",
    "fig.suptitle(\"COVID-19 Africa Trend: (Created By DataPivotAfrica)\",y=1.01, size=18)\n",
    "fig.tight_layout()\n",
    "plt.savefig('trend.png',quality = 95,orientation='landscape',dpi=72)\n",
    "plt.show()"
   ]
  },
  {
   "cell_type": "code",
   "execution_count": null,
   "metadata": {},
   "outputs": [],
   "source": []
  }
 ],
 "metadata": {
  "kernelspec": {
   "display_name": "Python [conda env:ml]",
   "language": "python",
   "name": "conda-env-ml-py"
  },
  "language_info": {
   "codemirror_mode": {
    "name": "ipython",
    "version": 3
   },
   "file_extension": ".py",
   "mimetype": "text/x-python",
   "name": "python",
   "nbconvert_exporter": "python",
   "pygments_lexer": "ipython3",
   "version": "3.6.10"
  }
 },
 "nbformat": 4,
 "nbformat_minor": 4
}
